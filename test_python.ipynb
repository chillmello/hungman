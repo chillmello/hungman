{
 "cells": [
  {
   "cell_type": "code",
   "execution_count": 2,
   "metadata": {},
   "outputs": [],
   "source": [
    "import math\n",
    "x = math.pow(2,3)"
   ]
  },
  {
   "cell_type": "code",
   "execution_count": 3,
   "metadata": {},
   "outputs": [
    {
     "name": "stdout",
     "output_type": "stream",
     "text": [
      "18.857142857142858 12 33\n",
      "True\n",
      "False\n"
     ]
    }
   ],
   "source": [
    "#実行結果の出力は毎回変わります。\n",
    "#これはランダムだから\n",
    "\n",
    "import random\n",
    "import statistics\n",
    "import keyword\n",
    "\n",
    "random.randint(0,100)\n",
    "nums = [1,5,33,12,46,33,2]\n",
    "x = statistics.mean(nums) #mean平均値\n",
    "y = statistics.median(nums) #median中央値\n",
    "z = statistics.mode(nums) #mode最頻値\n",
    "print(x,y,z)\n",
    "\n",
    "print(keyword.iskeyword('for')) #pythonのキーワードかどうかを調べる\n",
    "print(keyword.iskeyword('football'))"
   ]
  },
  {
   "cell_type": "code",
   "execution_count": 4,
   "metadata": {},
   "outputs": [
    {
     "name": "stdout",
     "output_type": "stream",
     "text": [
      "Hello\n"
     ]
    }
   ],
   "source": [
    "import hello\n",
    "hello.print_hello()"
   ]
  },
  {
   "cell_type": "code",
   "execution_count": 5,
   "metadata": {},
   "outputs": [],
   "source": [
    "with open('st.txt','w',encoding = 'utf-8') as st:\n",
    "    st.write('Hi from Python\\nPythonからこんにちは')"
   ]
  },
  {
   "attachments": {},
   "cell_type": "markdown",
   "metadata": {},
   "source": [
    "以下の構文も内容的には同じ\n",
    "st = open('st.txt','w')\n",
    "st.write('Hi from python')\n",
    "st.close()"
   ]
  },
  {
   "cell_type": "code",
   "execution_count": 6,
   "metadata": {},
   "outputs": [
    {
     "name": "stdout",
     "output_type": "stream",
     "text": [
      "['Hi from Python\\nPythonからこんにちは']\n"
     ]
    }
   ],
   "source": [
    "my_list = []\n",
    "\n",
    "with open('st.txt','r',encoding = 'utf-8') as f :\n",
    "    my_list.append(f.read())\n",
    "\n",
    "print(my_list)"
   ]
  },
  {
   "cell_type": "code",
   "execution_count": 7,
   "metadata": {},
   "outputs": [],
   "source": [
    "import csv\n",
    "\n",
    "with open('sample_csv','w',newline='') as f :\n",
    "    w = csv.writer(f,delimiter=',')\n",
    "    w.writerow(['one','two','three','four'])\n",
    "    w.writerow(['five','six','seven'])"
   ]
  },
  {
   "cell_type": "code",
   "execution_count": 8,
   "metadata": {},
   "outputs": [
    {
     "name": "stdout",
     "output_type": "stream",
     "text": [
      "one,two,three,four\n",
      "five,six,seven\n"
     ]
    }
   ],
   "source": [
    "import csv\n",
    "\n",
    "with open('sample_csv','r') as f :\n",
    "    r = csv.reader(f,delimiter=',')\n",
    "    for row in r :\n",
    "        print(','.join(row))"
   ]
  },
  {
   "attachments": {},
   "cell_type": "markdown",
   "metadata": {},
   "source": [
    "ハングマン　ルール説明\n",
    "１．player１は、好きな単語を選んでかくしておきます。単語の文字の数だけアンダースコアを引く。\n",
    "2.player2は、単語を予想して、一回に一文字を回答する。\n",
    "3.player2が回答した文字が、かくしてある単語に含まれていたら、player1は書いておいた下線のその文字があるべきところに、その文字を書き込みます。\n",
    "今回のルールでは、1つの単語に同じ文字が2個以上含まれている場合は、回答1回につきｈと文字だけ表示されます。player2の回答が間違っていいた場合、player1は、つられた人の絵のパーツを1つ書き込みます（頭から始める）。\n",
    "4.つられた人の絵が完成する前に、player2が隠された単語の文字をすべて当てられたら、player2の勝ちです。絵が完成してしまったら、負けです。"
   ]
  },
  {
   "cell_type": "code",
   "execution_count": 9,
   "metadata": {},
   "outputs": [],
   "source": [
    "#ハングマン_コード\n",
    "def hangman(word):\n",
    "    wrong = 0\n",
    "    stages =['',\n",
    "             '________        ',\n",
    "             '|               ',\n",
    "             '|       |       ',\n",
    "             '|       o       ',\n",
    "             '|      /|\\      ',\n",
    "             '|      / \\      ',\n",
    "             '|               '\n",
    "             ]\n",
    "    rletters = list(word)\n",
    "    board = ['_'] * len(word) #リストの倍数はリスト内の要素をコピーし倍数分だけ要素を増やす。\n",
    "    win = False\n",
    "    print('ハングマンへようこそ！')\n",
    "    while wrong < len(stages) - 1 :\n",
    "        print('\\n')\n",
    "        msg = '１文字を予想してね'\n",
    "        char = input(msg)\n",
    "        if char in rletters:\n",
    "            cind = rletters.index(char)\n",
    "            board[cind] = char\n",
    "            rletters[cind] = '$'\n",
    "        else:\n",
    "            wrong += 1\n",
    "        print(' '.join(board))\n",
    "        e = wrong + 1\n",
    "        print('\\n'.join(stages[0:e]))\n",
    "        if '_' not in board:\n",
    "            print('あなたの勝ち')\n",
    "            print(' '.join(board))\n",
    "            win = True\n",
    "            break\n",
    "    if not win :\n",
    "        print('\\n'.join(stages[0:wrong+1]))\n",
    "        print('あなたの負け！正解は{}.'.format(word))"
   ]
  },
  {
   "cell_type": "code",
   "execution_count": 10,
   "metadata": {},
   "outputs": [
    {
     "name": "stdout",
     "output_type": "stream",
     "text": [
      "ハングマンへようこそ！\n",
      "\n",
      "\n",
      "_ _ _ _ _\n",
      "\n",
      "________        \n",
      "\n",
      "\n",
      "_ _ _ _ _\n",
      "\n",
      "________        \n",
      "|               \n",
      "\n",
      "\n",
      "_ _ _ _ _\n",
      "\n",
      "________        \n",
      "|               \n",
      "|       |       \n",
      "\n",
      "\n",
      "_ _ _ _ _\n",
      "\n",
      "________        \n",
      "|               \n",
      "|       |       \n",
      "|       o       \n",
      "\n",
      "\n",
      "_ _ _ _ _\n",
      "\n",
      "________        \n",
      "|               \n",
      "|       |       \n",
      "|       o       \n",
      "|      /|\\      \n",
      "\n",
      "\n",
      "_ _ _ _ _\n",
      "\n",
      "________        \n",
      "|               \n",
      "|       |       \n",
      "|       o       \n",
      "|      /|\\      \n",
      "|      / \\      \n",
      "\n",
      "\n",
      "_ _ _ _ _\n",
      "\n",
      "________        \n",
      "|               \n",
      "|       |       \n",
      "|       o       \n",
      "|      /|\\      \n",
      "|      / \\      \n",
      "|               \n",
      "\n",
      "________        \n",
      "|               \n",
      "|       |       \n",
      "|       o       \n",
      "|      /|\\      \n",
      "|      / \\      \n",
      "|               \n",
      "あなたの負け！正解はapple.\n"
     ]
    }
   ],
   "source": [
    "hangman('apple')"
   ]
  },
  {
   "attachments": {},
   "cell_type": "markdown",
   "metadata": {},
   "source": [
    "プログラミングパラダイム：プログラミングのスタイル・手法のこと\n",
    "\n",
    "大きく分けてオブジェクト指向プログラミング、手続型プログラミング、関数型プログラミングがある。\n",
    "プログラミングパラダイムのそれぞれの大きな違いの一つに、状態(ステート)の持ち方\n",
    "がある。状態はプログラム動作中の変数の値のこと。\n",
    "状態の一つ、グローバルステートは実行中のグローバル変数の値のこと。\n",
    "pythonでは、これらのパラダイムを同時に扱うことが可能。\n"
   ]
  },
  {
   "cell_type": "code",
   "execution_count": 13,
   "metadata": {},
   "outputs": [
    {
     "name": "stdout",
     "output_type": "stream",
     "text": [
      "不正な値です。\n",
      "pop songs: ['test']\n",
      "jpop songs []\n",
      "['test']\n"
     ]
    }
   ],
   "source": [
    "#手続き型プログラミング\n",
    "\n",
    "pop = [] #洋楽ポップソングを保存するリスト\n",
    "jpop = [] #JPOPソングを保存するリスト\n",
    "\n",
    "def collect_songs():\n",
    "    song = '曲名を入力してください：'\n",
    "    ask = 'pかjのどちらかを入力してください。qで終わります：'\n",
    "\n",
    "    while True:\n",
    "        genre = input(ask)\n",
    "        if genre == 'q':\n",
    "            break\n",
    "\n",
    "        if genre =='p':\n",
    "            p = input(song)\n",
    "            pop.append(p)\n",
    "\n",
    "        elif genre == 'j' :\n",
    "            j = input(song)\n",
    "            jpop.append(j)\n",
    "\n",
    "        else:\n",
    "            print('不正な値です。')\n",
    "\n",
    "    print('pop songs:',pop)\n",
    "    print('jpop songs',jpop)\n",
    "\n",
    "collect_songs()\n",
    "    "
   ]
  },
  {
   "attachments": {},
   "cell_type": "markdown",
   "metadata": {},
   "source": [
    "手続き型プログラミングでは、このくらいの小さなプログラムを書くには良い手法だが、状態をすべてグローバル変数に持たせているため、プログラムが大きくなるに従って様々な問題が出てくる。\n",
    "※手続き型がすべてグローバル変数で成り立っているわけではない。上記のコードではあえてグローバル変数を関数から直接書き換えれるコード例になっている。"
   ]
  },
  {
   "attachments": {},
   "cell_type": "markdown",
   "metadata": {},
   "source": [
    "関数型プログラミング\n",
    "\n",
    "関数型プログラミングの起源は、ラムダ計算(とは、最小のユニバーサルなプログラミング言語)です。\n",
    "関数型は、グローバルステートに依存せず、その動作は関数に渡された引数によってのみ変わります。そして、関数の戻り値は通常、ほかの関数に引数として渡される。=>この手法によって、関数型プログラミングはグローバルステートを排除した。"
   ]
  },
  {
   "cell_type": "code",
   "execution_count": 29,
   "metadata": {},
   "outputs": [
    {
     "name": "stdout",
     "output_type": "stream",
     "text": [
      "3\n",
      "4\n",
      "4\n",
      "6\n",
      "4\n"
     ]
    }
   ],
   "source": [
    "#関数型プログラミング\n",
    "\n",
    "#関数型じゃない？(グローバル変数に影響する)コードの例\n",
    "\n",
    "a = 3\n",
    "def increment():\n",
    "    global a\n",
    "    print(a)\n",
    "    a += 1\n",
    "\n",
    "increment()\n",
    "print(a)\n",
    "\n",
    "#関数型のコード例\n",
    "\n",
    "def increment(a):\n",
    "    return a + 1\n",
    "\n",
    "print(a)\n",
    "print(increment(5))\n",
    "print(a)"
   ]
  },
  {
   "attachments": {},
   "cell_type": "markdown",
   "metadata": {},
   "source": [
    "オブジェクト指向プログラミング\n",
    "\n",
    "オブジェクト指向のパラダイムも、グローバルステートを排除することで、手続型プログラミングの問題を解決する。ただし、関数型のように関数の引数に状態を渡す(持たせる)のではなく、オブジェクトに状態を持たせる。\n",
    "オブジェクト指向プログラミングでは、複数のクラスで相互に作用するオブジェクトの集合を定義する。\n",
    "すべてのオブジェクトはクラスのインスタンスです。Orangeという名前のクラスを定義し、2つのOrangeオブジェクトを作成したら、その1つひとつはOrangeクラスのインスタンスです。それらのデータ型はOrangeです。\n",
    "\n",
    "pythonのクラスは、ヘッダーとスイートを持つ複合文で次のようにクラスを定義する。\n",
    "class[クラス名]:\n",
    "    [スイート]\n",
    "[クラス名]はクラスの名前で、[スイート]はクラスのスイートです。pythonのクラス名は、大文字で始まるキャメルケースで記述するのが慣習です。クラス名に複数の単語が含まれる場合、すべての単語の最初の文字は大文字で記載する(アンダースコアは使わない)。\n",
    "クラスのスイート部分には、tくぁん純分、またはメソッドと呼ばれる複合文を書きます。メソッドはクラスの内部で定義し、そのクラスから生成したオブジェクトを通してのみ呼び出せる関数。メッソドは関数とほとんど同じ構文で定義するが、違いが2つある。\n",
    "(1)クラスのスイート部分に定義する。\n",
    "(2)引数を少なくとも一つ定義する必要がある(特殊な場合を除く)。一つ目の必須な引数にはselfという名前を使います。selfは、そのメソッドを呼び出すときに使ったオブジェクトでpythnが自動で渡してくれる。"
   ]
  },
  {
   "cell_type": "code",
   "execution_count": 2,
   "metadata": {},
   "outputs": [
    {
     "name": "stdout",
     "output_type": "stream",
     "text": [
      "Created!\n"
     ]
    }
   ],
   "source": [
    "class Orange:\n",
    "    def __init__(self):\n",
    "        print('Created!')\n",
    "\n",
    "orange = Orange()"
   ]
  },
  {
   "attachments": {},
   "cell_type": "markdown",
   "metadata": {},
   "source": [
    "self変数は、インスタンス変数の定義に使う。\n",
    "インスタンス変数とは、そのオブジェクトに属する変数のこと。いくつものオブジェクト(インスタンス?)を作ると、各オブジェクトはそれぞれ異なる属性値をインスタンス変数として持つことになる。インスタンス変数は、以下の構文で定義する。\n",
    "self.[変数名]　= [値]\n",
    "通常、インスタンス変数は__init__という特殊なメソッドの中で定義し(initはinitialize = 初期化の略)、オブジェクトを作るときにPYthonから呼び出される。"
   ]
  },
  {
   "cell_type": "code",
   "execution_count": null,
   "metadata": {},
   "outputs": [],
   "source": [
    "class Orange:\n",
    "    def __init__(self,w,c):\n",
    "        self.weight = w\n",
    "        self.color = c\n",
    "        print('Created!')\n",
    "\n",
    "orange = Orange(10,'dark orange')\n",
    "print(orange)\n",
    "print(orange.weight)\n",
    "print(orange.color)"
   ]
  },
  {
   "attachments": {},
   "cell_type": "markdown",
   "metadata": {},
   "source": [
    "Orangeオブジェクトを作成すると、__init__のコードが実行され、2つのインスタンス変数、weightとcolorが作成される。クラス内のどのメソッドでも、これらのインスタンス変数を通常の変数と同様に使用できます。\n",
    "Orangeオブジェクトを作成すると、__init__のコードに書かれたprint関数が呼び出されCreated!と出力される。\n",
    "__init__のように二重のアンダースコアで囲まれたメソッドは、特殊メソッドと呼ばれる。\n",
    "Orangeオブジェクトは、関数を呼び出すのと同じ構文で作ります。\n",
    "[クラス名]([引数])\n",
    "[引数]部分には、__init__メソッドが受け取れる引数を渡しますが、第1引数selfを明示的に渡す必要はありません。selfはPythonが自動的に渡してくれます。\n",
    "このように、新しいオブジェクトを作ることをクラスのインスタンス化という。\n",
    "上記の例では、インスタンス化すると画面にCreated!と表示され、Orangeオブジェクト事態を画面に出力すると、PythonはそれがOrangeオブジェクトであること、コンピューターメモリ上の位置を表示する。\n",
    "オブジェクト作成後は、[オブジェクト名].[インスタンス変数名]の形でインスタンス変数の値を取得できる。\n",
    "インスタンス変数の値を変更する場合は、\n",
    "[オブジェクト名].[インスタンス変数名]=[新しい値]\n",
    "のようにして変更できる。"
   ]
  },
  {
   "attachments": {},
   "cell_type": "markdown",
   "metadata": {},
   "source": [
    "また実際のオレンジは色や重さなどの物理的特徴以外にも、腐ったりして変化します。\n",
    "これを以下のようにしてメソッドで表すこともできます。"
   ]
  },
  {
   "cell_type": "code",
   "execution_count": null,
   "metadata": {},
   "outputs": [],
   "source": [
    "class Orange:\n",
    "    def __init__(self,w,c):\n",
    "        self.weight = w\n",
    "        self.color = c\n",
    "        self.mold = 0\n",
    "        print('Created!')\n",
    "\n",
    "    def rot(self,days,temp):\n",
    "        '''temp(温度)摂氏'''\n",
    "        self.mold = days * temp\n",
    "\n",
    "orange = Orange(200,'orange')\n",
    "print(orange.mold)\n",
    "orange.rot(10,37)\n",
    "print(orange.mold)"
   ]
  },
  {
   "attachments": {},
   "cell_type": "markdown",
   "metadata": {},
   "source": [
    "オブジェクト指向プログラミングの別の例を以下に紹介します。\n",
    "次のコードは、長方形を表すクラスに複数のメソッドを定義しています。\n",
    "メソッドareaは、面積を計算、メソッドchange_sizeは長方形のサイズを変更する。"
   ]
  },
  {
   "cell_type": "code",
   "execution_count": null,
   "metadata": {},
   "outputs": [],
   "source": [
    "class Rectangle:\n",
    "    def __init__(self,w,l):\n",
    "        self.width = w\n",
    "        self.len = l\n",
    "\n",
    "    def area(self):\n",
    "        return self.width * self.len\n",
    "    \n",
    "    def change_size(self,w,l):\n",
    "        self.width = w\n",
    "        self.len = l\n",
    "        \n",
    "rectangle = Rectangle(10,20)\n",
    "print(rectangle.area())\n",
    "rectangle.change_size(20,40)\n",
    "print(rectangle.area())"
   ]
  }
 ],
 "metadata": {
  "kernelspec": {
   "display_name": "pythonenv",
   "language": "python",
   "name": "python3"
  },
  "language_info": {
   "codemirror_mode": {
    "name": "ipython",
    "version": 3
   },
   "file_extension": ".py",
   "mimetype": "text/x-python",
   "name": "python",
   "nbconvert_exporter": "python",
   "pygments_lexer": "ipython3",
   "version": "3.8.8"
  },
  "orig_nbformat": 4
 },
 "nbformat": 4,
 "nbformat_minor": 2
}
